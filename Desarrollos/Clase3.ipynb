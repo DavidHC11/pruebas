{
 "cells": [
  {
   "cell_type": "code",
   "execution_count": 16,
   "metadata": {},
   "outputs": [
    {
     "data": {
      "text/plain": [
       "'Mariana'"
      ]
     },
     "execution_count": 16,
     "metadata": {},
     "output_type": "execute_result"
    }
   ],
   "source": [
    "from random import choice, sample\n",
    "\n",
    "\n",
    "alumnos = [\"Mariana\",\"Osvaldo\"]\n",
    "\n",
    "choice(alumnos)"
   ]
  },
  {
   "cell_type": "code",
   "execution_count": 3,
   "metadata": {},
   "outputs": [
    {
     "name": "stdout",
     "output_type": "stream",
     "text": [
      "3\n",
      "2\n",
      "5\n",
      "5\n",
      "6\n"
     ]
    }
   ],
   "source": [
    "from random import choice, sample\n",
    "loteria = (1,5,8,7,6,3,2,4,9)\n",
    "for i in range(5):\n",
    "  print(choice(loteria))"
   ]
  },
  {
   "cell_type": "code",
   "execution_count": 7,
   "metadata": {},
   "outputs": [],
   "source": [
    "x = sample(loteria, 5)"
   ]
  },
  {
   "cell_type": "code",
   "execution_count": 13,
   "metadata": {},
   "outputs": [
    {
     "data": {
      "text/plain": [
       "[305]"
      ]
     },
     "execution_count": 13,
     "metadata": {},
     "output_type": "execute_result"
    }
   ],
   "source": [
    "loteria = [x for x in range(1,1000)]\n",
    "participantes = sample(loteria, 200)\n",
    "\n",
    "sample(participantes,1)"
   ]
  },
  {
   "cell_type": "code",
   "execution_count": 19,
   "metadata": {},
   "outputs": [
    {
     "data": {
      "text/plain": [
       "4.700480365792417"
      ]
     },
     "execution_count": 19,
     "metadata": {},
     "output_type": "execute_result"
    }
   ],
   "source": [
    "import math\n",
    "def sum(x,y):\n",
    "  return math.log(x) + math.log(y)\n",
    "\n",
    "\n",
    "\n",
    "sum(int(input('Ingresa x')),int(input('Ingresa y')))"
   ]
  },
  {
   "cell_type": "code",
   "execution_count": 20,
   "metadata": {},
   "outputs": [
    {
     "name": "stdout",
     "output_type": "stream",
     "text": [
      "[11, 23, 24, 45, 67, 78]\n",
      "[24, 11, 78]\n"
     ]
    }
   ],
   "source": [
    "from random import sample\n",
    "loteria=[]\n",
    "for x in range(6):\n",
    "   loteria.append(int(input(\"ingresa el número de la posición :\")))\n",
    "print(loteria)\n",
    "print(sample(loteria,3))"
   ]
  },
  {
   "cell_type": "code",
   "execution_count": 22,
   "metadata": {},
   "outputs": [
    {
     "name": "stdout",
     "output_type": "stream",
     "text": [
      "[11, 23, 24, 45, 67, 78]\n",
      "0\n"
     ]
    }
   ],
   "source": [
    "atinados = 0 \n",
    "for x in loteria:\n",
    "    if x in participantes:\n",
    "        atinados+=1\n",
    "\n",
    "print(loteria)\n",
    "print(atinados)"
   ]
  },
  {
   "cell_type": "code",
   "execution_count": null,
   "metadata": {},
   "outputs": [],
   "source": []
  }
 ],
 "metadata": {
  "interpreter": {
   "hash": "b0fa6594d8f4cbf19f97940f81e996739fb7646882a419484c72d19e05852a7e"
  },
  "kernelspec": {
   "display_name": "Python 3.9.5 64-bit",
   "language": "python",
   "name": "python3"
  },
  "language_info": {
   "codemirror_mode": {
    "name": "ipython",
    "version": 3
   },
   "file_extension": ".py",
   "mimetype": "text/x-python",
   "name": "python",
   "nbconvert_exporter": "python",
   "pygments_lexer": "ipython3",
   "version": "3.9.5"
  },
  "orig_nbformat": 4
 },
 "nbformat": 4,
 "nbformat_minor": 2
}
