{
 "cells": [
  {
   "cell_type": "markdown",
   "metadata": {},
   "source": [
    "# Excepciones\n",
    "\n",
    "* Siempre proviene de un error en el código, es un tipo de dato que brinda la oportunidad de una respuesta antes de interrumpir el código.\n",
    "* Se puede dar tratamiento a estos tipos de datos con bloques try/except\n",
    "* Podemos colocar tantos bloques try - except como queramos dandole solución a las excepciones \n",
    "* No se puede ocupar except sin colocar try\n",
    "* Si ejecuta un bloque except no serán ejecutados ninguno de los demás\n",
    "* Si la excepción no es tratada por ningún bloque, el código dará un error\n",
    "* Un except sin especificación debe colocarse al último"
   ]
  },
  {
   "cell_type": "code",
   "execution_count": 1,
   "metadata": {},
   "outputs": [
    {
     "ename": "ValueError",
     "evalue": "invalid literal for int() with base 10: 'a'",
     "output_type": "error",
     "traceback": [
      "\u001b[0;31m---------------------------------------------------------------------------\u001b[0m",
      "\u001b[0;31mValueError\u001b[0m                                Traceback (most recent call last)",
      "\u001b[0;32m<ipython-input-1-c48a396e88d3>\u001b[0m in \u001b[0;36m<module>\u001b[0;34m\u001b[0m\n\u001b[1;32m      1\u001b[0m \u001b[0;32mtry\u001b[0m\u001b[0;34m:\u001b[0m\u001b[0;34m\u001b[0m\u001b[0;34m\u001b[0m\u001b[0m\n\u001b[0;32m----> 2\u001b[0;31m     \u001b[0mx\u001b[0m \u001b[0;34m=\u001b[0m \u001b[0mint\u001b[0m\u001b[0;34m(\u001b[0m\u001b[0minput\u001b[0m\u001b[0;34m(\u001b[0m\u001b[0;34m\"Ingresa un numero: \"\u001b[0m\u001b[0;34m)\u001b[0m\u001b[0;34m)\u001b[0m\u001b[0;34m\u001b[0m\u001b[0;34m\u001b[0m\u001b[0m\n\u001b[0m\u001b[1;32m      3\u001b[0m     \u001b[0my\u001b[0m \u001b[0;34m=\u001b[0m \u001b[0;36m1\u001b[0m\u001b[0;34m/\u001b[0m\u001b[0mx\u001b[0m\u001b[0;34m\u001b[0m\u001b[0;34m\u001b[0m\u001b[0m\n",
      "\u001b[0;31mValueError\u001b[0m: invalid literal for int() with base 10: 'a'",
      "\nDuring handling of the above exception, another exception occurred:\n",
      "\u001b[0;31mValueError\u001b[0m                                Traceback (most recent call last)",
      "\u001b[0;32m<ipython-input-1-c48a396e88d3>\u001b[0m in \u001b[0;36m<module>\u001b[0;34m\u001b[0m\n\u001b[1;32m      5\u001b[0m \u001b[0;34m\u001b[0m\u001b[0m\n\u001b[1;32m      6\u001b[0m \u001b[0;32mexcept\u001b[0m \u001b[0mValueError\u001b[0m\u001b[0;34m:\u001b[0m\u001b[0;34m\u001b[0m\u001b[0;34m\u001b[0m\u001b[0m\n\u001b[0;32m----> 7\u001b[0;31m     \u001b[0mx\u001b[0m \u001b[0;34m=\u001b[0m \u001b[0mint\u001b[0m\u001b[0;34m(\u001b[0m\u001b[0minput\u001b[0m\u001b[0;34m(\u001b[0m\u001b[0;34m\"Debes colocar un numero entero: \"\u001b[0m\u001b[0;34m)\u001b[0m\u001b[0;34m)\u001b[0m\u001b[0;34m\u001b[0m\u001b[0;34m\u001b[0m\u001b[0m\n\u001b[0m\u001b[1;32m      8\u001b[0m     \u001b[0my\u001b[0m \u001b[0;34m=\u001b[0m \u001b[0;36m1\u001b[0m\u001b[0;34m/\u001b[0m\u001b[0mx\u001b[0m\u001b[0;34m\u001b[0m\u001b[0;34m\u001b[0m\u001b[0m\n\u001b[1;32m      9\u001b[0m     \u001b[0mprint\u001b[0m\u001b[0;34m(\u001b[0m\u001b[0my\u001b[0m\u001b[0;34m)\u001b[0m\u001b[0;34m\u001b[0m\u001b[0;34m\u001b[0m\u001b[0m\n",
      "\u001b[0;31mValueError\u001b[0m: invalid literal for int() with base 10: 'a'"
     ]
    }
   ],
   "source": [
    "try:\n",
    "    x = int(input(\"Ingresa un numero: \"))\n",
    "    y = 1/x\n",
    "    print(y)\n",
    "\n",
    "except ValueError:\n",
    "    x = int(input(\"Debes colocar un numero entero: \"))\n",
    "    y = 1/x\n",
    "    print(y)\n",
    "except ZeroDivisionError:\n",
    "    x = int(input(\"Debes colocar un numero entero que no sea 0: \"))\n",
    "    y = 1/x\n",
    "    print(y)\n",
    "except:\n",
    "    print(\"Oh no algo salio mal\")\n"
   ]
  },
  {
   "cell_type": "code",
   "execution_count": 2,
   "metadata": {},
   "outputs": [
    {
     "name": "stdout",
     "output_type": "stream",
     "text": [
      "No puedes usar caracteres\n"
     ]
    }
   ],
   "source": [
    "try:\n",
    "    x = int(input(\"Ingresa un numero: \"))\n",
    "    y = 1/x\n",
    "    print(y)\n",
    "\n",
    "except ValueError:\n",
    "    print(\"No puedes usar caracteres\")\n",
    "except ZeroDivisionError:\n",
    "    print(\"No puedes dividir entre cero\")\n",
    "except:\n",
    "    print(\"Oh no algo salio mal\")"
   ]
  },
  {
   "cell_type": "code",
   "execution_count": 8,
   "metadata": {},
   "outputs": [
    {
     "name": "stdout",
     "output_type": "stream",
     "text": [
      "algo salió mal\n"
     ]
    }
   ],
   "source": [
    "try:\n",
    "    x = int(input(\"Ingresa un numero: \"))\n",
    "    y = 1/x\n",
    "    print(y)\n",
    "except ZeroDivisionError:\n",
    "    print(\"algo salió mal\")"
   ]
  },
  {
   "cell_type": "code",
   "execution_count": 9,
   "metadata": {},
   "outputs": [
    {
     "name": "stdout",
     "output_type": "stream",
     "text": [
      "algo salió mal\n"
     ]
    }
   ],
   "source": [
    "try:\n",
    "    x = int(input(\"Ingresa un numero: \"))\n",
    "    y = 1/x\n",
    "    print(y)\n",
    "except ArithmeticError:\n",
    "    print(\"algo salió mal\")"
   ]
  },
  {
   "cell_type": "code",
   "execution_count": 11,
   "metadata": {},
   "outputs": [
    {
     "name": "stdout",
     "output_type": "stream",
     "text": [
      "algo salió mal\n"
     ]
    }
   ],
   "source": [
    "try:\n",
    "    x = int(input(\"Ingresa un numero: \"))\n",
    "    y = 1/x\n",
    "    print(y)\n",
    "except ZeroDivisionError:\n",
    "    print(\"algo salió mal\")\n",
    "except ArithmeticError:\n",
    "    print(\"ten cuidado hay un error de aritmetica\")"
   ]
  },
  {
   "cell_type": "code",
   "execution_count": 13,
   "metadata": {},
   "outputs": [
    {
     "name": "stdout",
     "output_type": "stream",
     "text": [
      "ten cuidado hay un error de aritmetica\n"
     ]
    }
   ],
   "source": [
    "try:\n",
    "    x = int(input(\"Ingresa un numero: \"))\n",
    "    y = 1/x\n",
    "    print(y)\n",
    "except ArithmeticError:\n",
    "    print(\"ten cuidado hay un error de aritmetica\")\n",
    "except ZeroDivisionError:\n",
    "    print(\"algo salió mal\")\n"
   ]
  },
  {
   "cell_type": "code",
   "execution_count": 18,
   "metadata": {},
   "outputs": [
    {
     "name": "stdout",
     "output_type": "stream",
     "text": [
      "ten cuidado hay un error de aritmetica\n",
      "0.1111111111111111\n"
     ]
    }
   ],
   "source": [
    "try:\n",
    "    x = int(input(\"Ingresa un numero: \"))\n",
    "    y = 1/x\n",
    "    print(y)\n",
    "except (ArithmeticError,ZeroDivisionError):\n",
    "    print(\"ten cuidado hay un error de aritmetica\")\n",
    "    x = int(input(\"Debes colocar un numero entero que no sea 0: \"))\n",
    "    y = 1/x\n",
    "    print(y)\n"
   ]
  },
  {
   "cell_type": "markdown",
   "metadata": {},
   "source": [
    "# Como provocar una excepción"
   ]
  },
  {
   "cell_type": "markdown",
   "metadata": {},
   "source": [
    "Con raise puedo estresar mis datos o mis códigos y provocar excepciones para darles tratamiento"
   ]
  },
  {
   "cell_type": "code",
   "execution_count": 19,
   "metadata": {},
   "outputs": [
    {
     "name": "stdout",
     "output_type": "stream",
     "text": [
      "Oh no tienes un error\n"
     ]
    }
   ],
   "source": [
    "def provocar_excepciones():\n",
    "    raise ZeroDivisionError\n",
    "\n",
    "\n",
    "try:\n",
    "    provocar_excepciones()\n",
    "except ArithmeticError:\n",
    "    print(\"Oh no tienes un error\")"
   ]
  },
  {
   "cell_type": "markdown",
   "metadata": {},
   "source": [
    "Como crear una excepción personalizada\n",
    "\n",
    "assert ----> yo puedo crear una excepción personalizada"
   ]
  },
  {
   "cell_type": "code",
   "execution_count": 3,
   "metadata": {},
   "outputs": [
    {
     "name": "stdout",
     "output_type": "stream",
     "text": [
      "0.0\n"
     ]
    }
   ],
   "source": [
    "import math \n",
    "\n",
    "x = float(input(\"Dame un numero: \"))\n",
    "assert x>=0\n",
    "\n",
    "y = math.sqrt(x)\n",
    "\n",
    "print(y)"
   ]
  },
  {
   "cell_type": "code",
   "execution_count": 30,
   "metadata": {},
   "outputs": [
    {
     "name": "stdout",
     "output_type": "stream",
     "text": [
      "La prueba salio bien, soy la respuesta a la excepcion LookupError\n"
     ]
    }
   ],
   "source": [
    "try:\n",
    "    x = 10\n",
    "    lista = []\n",
    "    lista.append(x)\n",
    "    raise LookupError\n",
    "except LookupError:\n",
    "    print(\"La prueba salio bien, soy la respuesta a la excepcion LookupError\")"
   ]
  },
  {
   "cell_type": "code",
   "execution_count": null,
   "metadata": {},
   "outputs": [],
   "source": []
  }
 ],
 "metadata": {
  "interpreter": {
   "hash": "b0fa6594d8f4cbf19f97940f81e996739fb7646882a419484c72d19e05852a7e"
  },
  "kernelspec": {
   "display_name": "Python 3.9.5 64-bit",
   "language": "python",
   "name": "python3"
  },
  "language_info": {
   "codemirror_mode": {
    "name": "ipython",
    "version": 3
   },
   "file_extension": ".py",
   "mimetype": "text/x-python",
   "name": "python",
   "nbconvert_exporter": "python",
   "pygments_lexer": "ipython3",
   "version": "3.9.5"
  },
  "orig_nbformat": 4
 },
 "nbformat": 4,
 "nbformat_minor": 2
}
